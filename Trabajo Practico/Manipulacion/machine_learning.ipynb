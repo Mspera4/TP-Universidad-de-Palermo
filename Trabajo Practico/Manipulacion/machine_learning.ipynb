{
 "cells": [
  {
   "cell_type": "markdown",
   "metadata": {},
   "source": [
    "# Machine Learning\n",
    "\n",
    "Crearemos un algoritmo compare la cantidad de casos con las temperaturas medias cuatrimestrales a nivel nacional para determinar la relación de las mismas a través de una regresión lineal"
   ]
  },
  {
   "cell_type": "code",
   "execution_count": 1,
   "metadata": {},
   "outputs": [],
   "source": [
    "# Importo las librerías necesarias\n",
    "import pandas as pd\n",
    "import numpy as np\n",
    "import re\n",
    "import calendar\n",
    "import scipy as sp\n",
    "import sklearn \n",
    "import seaborn as sns\n",
    "import matplotlib.pyplot as plt\n",
    "import pycaret as pc\n",
    "import matplotlib.pyplot as plt\n",
    "import matplotlib.ticker as ticker\n",
    "from sklearn.linear_model import LinearRegression\n",
    "from sklearn.metrics import mean_squared_error, r2_score\n",
    "from sklearn.model_selection import train_test_split\n",
    "from sklearn.preprocessing import PolynomialFeatures\n",
    "sns.set_theme()"
   ]
  },
  {
   "cell_type": "code",
   "execution_count": 2,
   "metadata": {},
   "outputs": [],
   "source": [
    "# Ahora leo las tablas creadas por las transformaciones anteriores\n",
    "TablaCompleta = pd.read_csv(r'../Tablas_creadas/TablaCompleta.csv')\n",
    "Reportes = pd.read_csv(r'../Tablas_creadas/Reportes.csv')\n",
    "Estaciones = pd.read_csv(r'../Tablas_creadas/Estaciones.csv')\n",
    "Temp_humedad = pd.read_csv(r'../Tablas_creadas/Temp_humedad.csv')"
   ]
  },
  {
   "cell_type": "markdown",
   "metadata": {},
   "source": [
    "Preproceso la data, calculando:\n",
    "\n",
    "    1- Temperatura promedio por cuatrimestre\n",
    "    2- Casos por cuatrimestre  \n",
    "Luego uno esa data en un nuevo dataframe con las columnas: Cuatrimestre | Casos | Temperatura\n",
    " "
   ]
  },
  {
   "cell_type": "code",
   "execution_count": 3,
   "metadata": {},
   "outputs": [],
   "source": [
    "# Formo el dataframe nuevo:\n",
    "# ! Temperaturas promedio por cuatrimestre:\n",
    "def month_name_to_number(month_name):\n",
    "    month_abbr = month_name[:3].capitalize()\n",
    "    return list(calendar.month_abbr).index(month_abbr) \n",
    "\n",
    "Meses_temp = Temp_humedad['mes'].apply(month_name_to_number)\n",
    "\n",
    "# Le cambio el formato a la columna meses\n",
    "Meses_temp = pd.to_datetime(Meses_temp, format='%m').dt.month\n",
    "\n",
    "# Me aseguro que figure como series para poder hacer los siguientes pasos\n",
    "Meses_temp = pd.Series(Meses_temp)\n",
    "\n",
    "# Nuevo df con los datos que necesito\n",
    "df_temp = pd.DataFrame({'Mes': Meses_temp, 'Año': Temp_humedad['año']})\n",
    "\n",
    "# Vuelvo a tirar el format %m por si acaso\n",
    "df_temp['Mes'] = pd.to_datetime(df_temp['Mes'], format='%m').dt.month\n",
    "\n",
    "\n",
    "# Hago una columna para los cuatrimestres\n",
    "df_temp['Cuatrimestre'] = df_temp['Mes'].apply(lambda x: (x - 1) // 3 + 1)\n",
    "\n",
    "# Hago otra que incluye columna y año en un formato donde es facilmente ordenable\n",
    "df_temp['Cuatrimestre Completo'] = df_temp.apply(lambda row: f\"{row['Año']} Q{(row['Mes'] - 1) // 3 + 1}\", axis=1)\n",
    "\n",
    "df_temp['Temperatura Media'] = Temp_humedad['T Media'].astype(float)\n",
    "\n",
    "# Saco la temperatura media cuatrimestral\n",
    "\n",
    "temp_sumatorias = df_temp.groupby('Cuatrimestre Completo')['Temperatura Media'].median().reset_index()\n",
    "\n",
    "# ! Casos por Cuatrimestre\n",
    "Meses_reportes = Reportes['mes'].apply(month_name_to_number)\n",
    "\n",
    "\n",
    "df_reportes = pd.DataFrame({'Mes': Meses_reportes, 'Año': Reportes['año']})\n",
    "\n",
    "df_reportes['Cantidad'] = Reportes['cantidad'].astype(int)\n",
    "\n",
    "# Hago una columna para los cuatrimestres\n",
    "df_reportes['Cuatrimestre'] = df_reportes['Mes'].apply(lambda x: (x - 1) // 3 + 1)\n",
    "\n",
    "# Hago otra que incluye columna y año en un formato donde es facilmente ordenable\n",
    "df_reportes['Cuatrimestre Completo'] = df_reportes.apply(lambda row: f\"{row['Año']} Q{(row['Mes'] - 1) // 3 + 1}\", axis=1)\n",
    "\n",
    "# Agrupo los casos por cuatrimestre\n",
    "\n",
    "cuatrimestre_sumatorias = df_reportes.groupby('Cuatrimestre Completo')['Cantidad'].sum().reset_index()\n",
    "\n",
    "# ! Concateno los nuevos datos en 1 dataframe nuevo:\n",
    "\n",
    "df_ML = pd.merge(temp_sumatorias, cuatrimestre_sumatorias, how= 'outer')\n",
    "\n",
    "\n",
    "# filleo los NaN por 0 para los cuatrimestres sin casos:\n",
    "\n",
    "df_ML = df_ML.fillna(0)\n"
   ]
  },
  {
   "cell_type": "code",
   "execution_count": 4,
   "metadata": {},
   "outputs": [
    {
     "name": "stdout",
     "output_type": "stream",
     "text": [
      "   Cuatrimestre Completo  Temperatura Media  Cantidad\n",
      "0                2018 Q1               23.1     271.0\n",
      "1                2018 Q2               13.2    2507.0\n",
      "2                2018 Q3               10.8      19.0\n",
      "3                2018 Q4               20.2       7.0\n",
      "4                2019 Q1               21.9     938.0\n",
      "5                2019 Q2               13.8    1796.0\n",
      "6                2019 Q3               10.9      29.0\n",
      "7                2019 Q4               21.0      26.0\n",
      "8                2020 Q1               23.4   16144.0\n",
      "9                2020 Q2               13.4   38463.0\n",
      "10               2020 Q3               10.8     407.0\n",
      "11               2020 Q4               21.3      46.0\n",
      "12               2021 Q1               22.3    1304.0\n",
      "13               2021 Q2               13.1    2684.0\n",
      "14               2021 Q3               11.9       3.0\n",
      "15               2021 Q4               21.2       0.0\n",
      "16               2022 Q1               22.2     148.0\n",
      "17               2022 Q2               11.7     641.0\n",
      "18               2022 Q3               11.7       4.0\n",
      "19               2022 Q4               21.2       9.0\n",
      "20               2023 Q1               24.5   10013.0\n",
      "21               2023 Q2               14.4       0.0\n",
      "22               2023 Q3               12.2    1112.0\n",
      "23               2023 Q4               20.6    5913.0\n",
      "24               2024 Q1               23.9  230209.0\n",
      "25               2024 Q2               12.9  167294.0\n"
     ]
    }
   ],
   "source": [
    "print(df_ML)"
   ]
  },
  {
   "cell_type": "markdown",
   "metadata": {},
   "source": [
    "Separo la data en X (temperatura promedio por cuatrimestre) e y (casos)"
   ]
  },
  {
   "cell_type": "markdown",
   "metadata": {},
   "source": [
    "El siguiente paso es ya crear el modelo de regresión lineal:"
   ]
  },
  {
   "cell_type": "code",
   "execution_count": 5,
   "metadata": {},
   "outputs": [],
   "source": [
    "# Split the data into features (X) and target (y)\n",
    "X = df_ML['Temperatura Media'].values.reshape(-1, 1)\n",
    "y = df_ML['Cantidad'].values\n",
    "\n",
    "# Split the data into train and test sets\n",
    "X_train, X_test, y_train, y_test = train_test_split(X, y, test_size=0.2, random_state=42)\n",
    "\n",
    "# Create polynomial features\n",
    "poly = PolynomialFeatures(degree=2)  # Change the degree as needed\n",
    "X_train_poly = poly.fit_transform(X_train)\n",
    "X_test_poly = poly.transform(X_test)\n",
    "\n",
    "# Create and fit the linear regression model\n",
    "model = LinearRegression()\n",
    "model.fit(X_train_poly, y_train)\n",
    "\n",
    "# Make predictions on the test set\n",
    "y_pred = model.predict(X_test_poly)\n"
   ]
  },
  {
   "cell_type": "code",
   "execution_count": 6,
   "metadata": {},
   "outputs": [
    {
     "name": "stdout",
     "output_type": "stream",
     "text": [
      "Mean Squared Error: 9432533117.31\n",
      "R-squared: -0.37\n"
     ]
    }
   ],
   "source": [
    "# evalúo el desempeño del modelo\n",
    "\n",
    "mse = mean_squared_error(y_test, y_pred)\n",
    "r2 = r2_score(y_test, y_pred)\n",
    "\n",
    "print(f\"Mean Squared Error: {mse:.2f}\")\n",
    "print(f\"R-squared: {r2:.2f}\")\n"
   ]
  },
  {
   "cell_type": "code",
   "execution_count": null,
   "metadata": {},
   "outputs": [],
   "source": []
  }
 ],
 "metadata": {
  "kernelspec": {
   "display_name": "Python 3",
   "language": "python",
   "name": "python3"
  },
  "language_info": {
   "codemirror_mode": {
    "name": "ipython",
    "version": 3
   },
   "file_extension": ".py",
   "mimetype": "text/x-python",
   "name": "python",
   "nbconvert_exporter": "python",
   "pygments_lexer": "ipython3",
   "version": "3.10.12"
  }
 },
 "nbformat": 4,
 "nbformat_minor": 2
}
